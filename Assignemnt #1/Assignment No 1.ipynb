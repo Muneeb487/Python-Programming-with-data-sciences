{
 "cells": [
  {
   "cell_type": "code",
   "execution_count": 1,
   "id": "f0c32b3e",
   "metadata": {},
   "outputs": [
    {
     "name": "stdout",
     "output_type": "stream",
     "text": [
      "Twinkle,twinkle,little Start\n",
      "        How I wonder what youa are!\n",
      "                 Up above the world so high,\n",
      "                 Like a Diamond in the sky. \n",
      "Twinkle,twinkle, little Star,\n",
      "        How I wonder What you are \n"
     ]
    }
   ],
   "source": [
    "print(\"Twinkle,twinkle,little Start\")\n",
    "print(\"        How I wonder what youa are!\")\n",
    "print(\"                 Up above the world so high,\")\n",
    "print(\"                 Like a Diamond in the sky. \")\n",
    "print (\"Twinkle,twinkle, little Star,\")\n",
    "print (\"        How I wonder What you are \")\n"
   ]
  },
  {
   "cell_type": "code",
   "execution_count": 2,
   "id": "54ab37a1",
   "metadata": {},
   "outputs": [
    {
     "name": "stdout",
     "output_type": "stream",
     "text": [
      "Python version\n",
      "3.9.7 (default, Sep 16 2021, 16:59:28) [MSC v.1916 64 bit (AMD64)]\n",
      "Version info.\n",
      "sys.version_info(major=3, minor=9, micro=7, releaselevel='final', serial=0)\n"
     ]
    }
   ],
   "source": [
    "import sys\n",
    "print(\"Python version\")\n",
    "print (sys.version)\n",
    "print(\"Version info.\")\n",
    "print (sys.version_info)\n"
   ]
  },
  {
   "cell_type": "code",
   "execution_count": 3,
   "id": "40c5542f",
   "metadata": {},
   "outputs": [
    {
     "name": "stdout",
     "output_type": "stream",
     "text": [
      "Current date and time : \n",
      "2022-01-01 22:45:18\n"
     ]
    }
   ],
   "source": [
    "import datetime\n",
    "now = datetime.datetime.now()\n",
    "print (\"Current date and time : \")\n",
    "print (now.strftime(\"%Y-%m-%d %H:%M:%S\"))\n"
   ]
  },
  {
   "cell_type": "code",
   "execution_count": 4,
   "id": "18a9f9af",
   "metadata": {},
   "outputs": [
    {
     "name": "stdout",
     "output_type": "stream",
     "text": [
      "Input your First Name : Muhammad\n",
      "Input your Last Name : Muneeb\n",
      "Hello  Muneeb Muhammad\n"
     ]
    }
   ],
   "source": [
    "First_name = input(\"Input your First Name : \")\n",
    "Last_name = input(\"Input your Last Name : \")\n",
    "print (\"Hello  \" + Last_name + \" \" + First_name)\n"
   ]
  },
  {
   "cell_type": "code",
   "execution_count": 5,
   "id": "4c649037",
   "metadata": {},
   "outputs": [
    {
     "name": "stdout",
     "output_type": "stream",
     "text": [
      "Radius of Circle4.5\n",
      "The Area of the circle with Radius 4.5 is: 63.61725123519331\n"
     ]
    }
   ],
   "source": [
    "from math import pi\n",
    "r = float(input (\"Radius of Circle\"))\n",
    "print (\"The Area of the circle with Radius \" + str(r) + \" is: \" + str(pi * r**2))\n"
   ]
  },
  {
   "cell_type": "code",
   "execution_count": 13,
   "id": "a8f41022",
   "metadata": {},
   "outputs": [
    {
     "name": "stdout",
     "output_type": "stream",
     "text": [
      "Enter first number: 4\n",
      "Enter second number: 32\n",
      "The sum of 4 and 32 is 36.0\n"
     ]
    }
   ],
   "source": [
    "\n",
    "num1 = input('Enter first number: ')\n",
    "num2 = input('Enter second number: ')\n",
    "sum = float(num1) + float(num2)\n",
    "print(\"The sum of {0} and {1} is\".format(num1, num2),sum)\n"
   ]
  },
  {
   "cell_type": "code",
   "execution_count": null,
   "id": "ed16f080",
   "metadata": {},
   "outputs": [],
   "source": []
  }
 ],
 "metadata": {
  "kernelspec": {
   "display_name": "Python 3 (ipykernel)",
   "language": "python",
   "name": "python3"
  },
  "language_info": {
   "codemirror_mode": {
    "name": "ipython",
    "version": 3
   },
   "file_extension": ".py",
   "mimetype": "text/x-python",
   "name": "python",
   "nbconvert_exporter": "python",
   "pygments_lexer": "ipython3",
   "version": "3.9.7"
  }
 },
 "nbformat": 4,
 "nbformat_minor": 5
}
